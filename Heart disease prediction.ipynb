{
 "cells": [
  {
   "cell_type": "code",
   "execution_count": 211,
   "metadata": {},
   "outputs": [],
   "source": [
    "from __future__ import print_function  # for compatibility with all python versions"
   ]
  },
  {
   "cell_type": "code",
   "execution_count": 212,
   "metadata": {},
   "outputs": [],
   "source": [
    "# import necessary libraries\n",
    "import numpy as np\n",
    "from numpy import loadtxt\n",
    "from keras.models import Sequential\n",
    "from keras.layers import Dense\n",
    "from matplotlib import pyplot as plt"
   ]
  },
  {
   "cell_type": "code",
   "execution_count": 213,
   "metadata": {},
   "outputs": [],
   "source": [
    "dataset = loadtxt('heart_disease.csv' , delimiter = ',')   # Loading the dataset"
   ]
  },
  {
   "cell_type": "code",
   "execution_count": 214,
   "metadata": {},
   "outputs": [
    {
     "data": {
      "text/plain": [
       "(303, 14)"
      ]
     },
     "execution_count": 214,
     "metadata": {},
     "output_type": "execute_result"
    }
   ],
   "source": [
    "dataset.shape  # The shape of the dataset "
   ]
  },
  {
   "cell_type": "code",
   "execution_count": 215,
   "metadata": {},
   "outputs": [
    {
     "ename": "IndexError",
     "evalue": "index 14 is out of bounds for axis 1 with size 14",
     "output_type": "error",
     "traceback": [
      "\u001b[1;31m---------------------------------------------------------------------------\u001b[0m",
      "\u001b[1;31mIndexError\u001b[0m                                Traceback (most recent call last)",
      "\u001b[1;32m<ipython-input-215-23ad850f1b2d>\u001b[0m in \u001b[0;36m<module>\u001b[1;34m\u001b[0m\n\u001b[0;32m      1\u001b[0m \u001b[0mX\u001b[0m \u001b[1;33m=\u001b[0m \u001b[0mdataset\u001b[0m\u001b[1;33m[\u001b[0m\u001b[1;33m:\u001b[0m\u001b[1;33m,\u001b[0m \u001b[1;36m0\u001b[0m\u001b[1;33m:\u001b[0m\u001b[1;36m14\u001b[0m\u001b[1;33m]\u001b[0m  \u001b[1;31m# training set\u001b[0m\u001b[1;33m\u001b[0m\u001b[1;33m\u001b[0m\u001b[0m\n\u001b[1;32m----> 2\u001b[1;33m \u001b[0mY\u001b[0m \u001b[1;33m=\u001b[0m \u001b[0mdataset\u001b[0m\u001b[1;33m[\u001b[0m\u001b[1;33m:\u001b[0m\u001b[1;33m,\u001b[0m\u001b[1;36m14\u001b[0m\u001b[1;33m]\u001b[0m     \u001b[1;31m# test set\u001b[0m\u001b[1;33m\u001b[0m\u001b[1;33m\u001b[0m\u001b[0m\n\u001b[0m",
      "\u001b[1;31mIndexError\u001b[0m: index 14 is out of bounds for axis 1 with size 14"
     ]
    }
   ],
   "source": [
    "X = dataset[:, 0:14]  # training set\n",
    "Y = dataset[:,14]     # test set"
   ]
  },
  {
   "cell_type": "code",
   "execution_count": 216,
   "metadata": {},
   "outputs": [
    {
     "name": "stdout",
     "output_type": "stream",
     "text": [
      "(303, 14)\n",
      "(303,)\n"
     ]
    }
   ],
   "source": [
    "print(X.shape)  \n",
    "print(Y.shape)    # shape of training and test set"
   ]
  },
  {
   "cell_type": "code",
   "execution_count": 217,
   "metadata": {},
   "outputs": [],
   "source": [
    "# Creating layers \n",
    "model = Sequential()\n",
    "model.add(Dense(12, input_dim=14, activation='relu'))\n",
    "model.add(Dense(8, activation='relu'))\n",
    "model.add(Dense(1, activation='sigmoid')) "
   ]
  },
  {
   "cell_type": "code",
   "execution_count": 218,
   "metadata": {},
   "outputs": [
    {
     "name": "stdout",
     "output_type": "stream",
     "text": [
      "_________________________________________________________________\n",
      "Layer (type)                 Output Shape              Param #   \n",
      "=================================================================\n",
      "dense_55 (Dense)             (None, 12)                180       \n",
      "_________________________________________________________________\n",
      "dense_56 (Dense)             (None, 8)                 104       \n",
      "_________________________________________________________________\n",
      "dense_57 (Dense)             (None, 1)                 9         \n",
      "=================================================================\n",
      "Total params: 293\n",
      "Trainable params: 293\n",
      "Non-trainable params: 0\n",
      "_________________________________________________________________\n"
     ]
    }
   ],
   "source": [
    "model.summary()"
   ]
  },
  {
   "cell_type": "code",
   "execution_count": 219,
   "metadata": {},
   "outputs": [],
   "source": [
    "model.compile(loss='binary_crossentropy', optimizer='adam', metrics=['accuracy'])   # Compilation of our model"
   ]
  },
  {
   "cell_type": "code",
   "execution_count": 220,
   "metadata": {},
   "outputs": [
    {
     "name": "stdout",
     "output_type": "stream",
     "text": [
      "Epoch 1/150\n",
      "303/303 [==============================] - 2s 6ms/step - loss: -0.4548 - acc: 0.2838\n",
      "Epoch 2/150\n",
      "303/303 [==============================] - 1s 2ms/step - loss: -1.2846 - acc: 0.3135\n",
      "Epoch 3/150\n",
      "303/303 [==============================] - 0s 2ms/step - loss: -1.7034 - acc: 0.3366\n",
      "Epoch 4/150\n",
      "303/303 [==============================] - 0s 1ms/step - loss: -2.2114 - acc: 0.3498\n",
      "Epoch 5/150\n",
      "303/303 [==============================] - 0s 1ms/step - loss: -2.3395 - acc: 0.3531\n",
      "Epoch 6/150\n",
      "303/303 [==============================] - 0s 1ms/step - loss: -2.7951 - acc: 0.3762\n",
      "Epoch 7/150\n",
      "303/303 [==============================] - 0s 1ms/step - loss: -2.9427 - acc: 0.3630\n",
      "Epoch 8/150\n",
      "303/303 [==============================] - 0s 1ms/step - loss: -3.1714 - acc: 0.3564\n",
      "Epoch 9/150\n",
      "303/303 [==============================] - 0s 1ms/step - loss: -3.1210 - acc: 0.3927\n",
      "Epoch 10/150\n",
      "303/303 [==============================] - 0s 1ms/step - loss: -3.5065 - acc: 0.4092\n",
      "Epoch 11/150\n",
      "303/303 [==============================] - 0s 2ms/step - loss: -3.6403 - acc: 0.3960\n",
      "Epoch 12/150\n",
      "303/303 [==============================] - 0s 1ms/step - loss: -3.7997 - acc: 0.4290\n",
      "Epoch 13/150\n",
      "303/303 [==============================] - 0s 1ms/step - loss: -3.9284 - acc: 0.4026\n",
      "Epoch 14/150\n",
      "303/303 [==============================] - 0s 1ms/step - loss: -3.8962 - acc: 0.4389\n",
      "Epoch 15/150\n",
      "303/303 [==============================] - 0s 1ms/step - loss: -4.2329 - acc: 0.4323\n",
      "Epoch 16/150\n",
      "303/303 [==============================] - 0s 1ms/step - loss: -4.3854 - acc: 0.4488\n",
      "Epoch 17/150\n",
      "303/303 [==============================] - 0s 1ms/step - loss: -4.4885 - acc: 0.4587\n",
      "Epoch 18/150\n",
      "303/303 [==============================] - 0s 1ms/step - loss: -4.7523 - acc: 0.4587\n",
      "Epoch 19/150\n",
      "303/303 [==============================] - 0s 1ms/step - loss: -4.7910 - acc: 0.4422\n",
      "Epoch 20/150\n",
      "303/303 [==============================] - 0s 1ms/step - loss: -5.0986 - acc: 0.4818\n",
      "Epoch 21/150\n",
      "303/303 [==============================] - 0s 1ms/step - loss: -5.0847 - acc: 0.4851\n",
      "Epoch 22/150\n",
      "303/303 [==============================] - 0s 1ms/step - loss: -5.2096 - acc: 0.4851: 0s - loss: -5.5280 - a\n",
      "Epoch 23/150\n",
      "303/303 [==============================] - 0s 1ms/step - loss: -5.0160 - acc: 0.4884\n",
      "Epoch 24/150\n",
      "303/303 [==============================] - 0s 1ms/step - loss: -5.2444 - acc: 0.4917\n",
      "Epoch 25/150\n",
      "303/303 [==============================] - 1s 2ms/step - loss: -5.5200 - acc: 0.4950\n",
      "Epoch 26/150\n",
      "303/303 [==============================] - 1s 2ms/step - loss: -5.7018 - acc: 0.4950\n",
      "Epoch 27/150\n",
      "303/303 [==============================] - 1s 2ms/step - loss: -5.7344 - acc: 0.5083\n",
      "Epoch 28/150\n",
      "303/303 [==============================] - 0s 1ms/step - loss: -5.8863 - acc: 0.5281\n",
      "Epoch 29/150\n",
      "303/303 [==============================] - 0s 1ms/step - loss: -5.9455 - acc: 0.4983\n",
      "Epoch 30/150\n",
      "303/303 [==============================] - 0s 1ms/step - loss: -6.1658 - acc: 0.5149\n",
      "Epoch 31/150\n",
      "303/303 [==============================] - 0s 1ms/step - loss: -6.0694 - acc: 0.5446\n",
      "Epoch 32/150\n",
      "303/303 [==============================] - 0s 1ms/step - loss: -6.2006 - acc: 0.5215\n",
      "Epoch 33/150\n",
      "303/303 [==============================] - 0s 1ms/step - loss: -6.1509 - acc: 0.5248\n",
      "Epoch 34/150\n",
      "303/303 [==============================] - 0s 1ms/step - loss: -6.2270 - acc: 0.5380: 0s - loss: -6.9449 - acc\n",
      "Epoch 35/150\n",
      "303/303 [==============================] - ETA: 0s - loss: -6.5317 - acc: 0.55 - 0s 2ms/step - loss: -6.4670 - acc: 0.5578\n",
      "Epoch 36/150\n",
      "303/303 [==============================] - 0s 1ms/step - loss: -6.4637 - acc: 0.5446\n",
      "Epoch 37/150\n",
      "303/303 [==============================] - 0s 1ms/step - loss: -6.3772 - acc: 0.5413\n",
      "Epoch 38/150\n",
      "303/303 [==============================] - 0s 1ms/step - loss: -6.5480 - acc: 0.5578\n",
      "Epoch 39/150\n",
      "303/303 [==============================] - 0s 1ms/step - loss: -6.1989 - acc: 0.5413: 0s - loss: -8.0213 - acc\n",
      "Epoch 40/150\n",
      "303/303 [==============================] - 0s 1ms/step - loss: -6.6746 - acc: 0.5743\n",
      "Epoch 41/150\n",
      "303/303 [==============================] - 0s 1ms/step - loss: -6.6574 - acc: 0.5743\n",
      "Epoch 42/150\n",
      "303/303 [==============================] - 0s 1ms/step - loss: -6.7430 - acc: 0.5611\n",
      "Epoch 43/150\n",
      "303/303 [==============================] - 0s 1ms/step - loss: -6.7025 - acc: 0.5677\n",
      "Epoch 44/150\n",
      "303/303 [==============================] - 0s 1ms/step - loss: -6.7380 - acc: 0.5578\n",
      "Epoch 45/150\n",
      "303/303 [==============================] - 0s 1ms/step - loss: -6.8092 - acc: 0.5611\n",
      "Epoch 46/150\n",
      "303/303 [==============================] - 0s 1ms/step - loss: -6.8466 - acc: 0.5776\n",
      "Epoch 47/150\n",
      "303/303 [==============================] - 0s 1ms/step - loss: -6.8517 - acc: 0.5809\n",
      "Epoch 48/150\n",
      "303/303 [==============================] - 0s 1ms/step - loss: -6.9183 - acc: 0.5908\n",
      "Epoch 49/150\n",
      "303/303 [==============================] - 1s 2ms/step - loss: -6.8839 - acc: 0.5776\n",
      "Epoch 50/150\n",
      "303/303 [==============================] - 0s 1ms/step - loss: -6.8365 - acc: 0.5842\n",
      "Epoch 51/150\n",
      "303/303 [==============================] - 0s 1ms/step - loss: -7.0017 - acc: 0.6040\n",
      "Epoch 52/150\n",
      "303/303 [==============================] - 0s 1ms/step - loss: -6.9941 - acc: 0.6007\n",
      "Epoch 53/150\n",
      "303/303 [==============================] - 0s 2ms/step - loss: -7.0060 - acc: 0.6139\n",
      "Epoch 54/150\n",
      "303/303 [==============================] - 0s 1ms/step - loss: -6.8587 - acc: 0.6238\n",
      "Epoch 55/150\n",
      "303/303 [==============================] - 0s 1ms/step - loss: -6.9445 - acc: 0.5842\n",
      "Epoch 56/150\n",
      "303/303 [==============================] - 0s 1ms/step - loss: -7.0416 - acc: 0.6139\n",
      "Epoch 57/150\n",
      "303/303 [==============================] - 0s 1ms/step - loss: -7.0801 - acc: 0.5875\n",
      "Epoch 58/150\n",
      "303/303 [==============================] - 0s 1ms/step - loss: -7.0400 - acc: 0.6271\n",
      "Epoch 59/150\n",
      "303/303 [==============================] - 0s 2ms/step - loss: -7.0631 - acc: 0.6370\n",
      "Epoch 60/150\n",
      "303/303 [==============================] - 0s 2ms/step - loss: -7.0882 - acc: 0.6139\n",
      "Epoch 61/150\n",
      "303/303 [==============================] - 0s 1ms/step - loss: -7.1139 - acc: 0.6304\n",
      "Epoch 62/150\n",
      "303/303 [==============================] - 0s 1ms/step - loss: -6.9738 - acc: 0.5710\n",
      "Epoch 63/150\n",
      "303/303 [==============================] - 0s 1ms/step - loss: -7.0377 - acc: 0.6073\n",
      "Epoch 64/150\n",
      "303/303 [==============================] - 0s 1ms/step - loss: -7.1626 - acc: 0.6403\n",
      "Epoch 65/150\n",
      "303/303 [==============================] - 0s 980us/step - loss: -7.2012 - acc: 0.6436\n",
      "Epoch 66/150\n",
      "303/303 [==============================] - 0s 1ms/step - loss: -7.1231 - acc: 0.6172\n",
      "Epoch 67/150\n",
      "303/303 [==============================] - 0s 1ms/step - loss: -7.1982 - acc: 0.6535\n",
      "Epoch 68/150\n",
      "303/303 [==============================] - 0s 1ms/step - loss: -7.2042 - acc: 0.6436\n",
      "Epoch 69/150\n",
      "303/303 [==============================] - 0s 1ms/step - loss: -7.2716 - acc: 0.6436\n",
      "Epoch 70/150\n",
      "303/303 [==============================] - 0s 1ms/step - loss: -7.2590 - acc: 0.6502\n",
      "Epoch 71/150\n",
      "303/303 [==============================] - 0s 1ms/step - loss: -7.2511 - acc: 0.6370\n",
      "Epoch 72/150\n",
      "303/303 [==============================] - 0s 1ms/step - loss: -7.2338 - acc: 0.6370\n",
      "Epoch 73/150\n",
      "303/303 [==============================] - 0s 941us/step - loss: -7.3212 - acc: 0.6634\n",
      "Epoch 74/150\n",
      "303/303 [==============================] - 0s 1ms/step - loss: -7.2921 - acc: 0.6535: 0s - loss: -5.5387 - acc: \n",
      "Epoch 75/150\n",
      "303/303 [==============================] - 0s 1ms/step - loss: -7.2365 - acc: 0.6601\n",
      "Epoch 76/150\n",
      "303/303 [==============================] - 0s 1ms/step - loss: -7.3041 - acc: 0.6436\n",
      "Epoch 77/150\n",
      "303/303 [==============================] - 0s 1ms/step - loss: -7.3395 - acc: 0.6370\n",
      "Epoch 78/150\n",
      "303/303 [==============================] - 0s 1ms/step - loss: -7.3423 - acc: 0.6568: 0s - loss: -7.3234 - acc\n",
      "Epoch 79/150\n",
      "303/303 [==============================] - 0s 1ms/step - loss: -7.3109 - acc: 0.6601\n",
      "Epoch 80/150\n",
      "303/303 [==============================] - 0s 1ms/step - loss: -7.3834 - acc: 0.6634\n",
      "Epoch 81/150\n",
      "303/303 [==============================] - 0s 1ms/step - loss: -7.3398 - acc: 0.6568\n",
      "Epoch 82/150\n"
     ]
    },
    {
     "name": "stdout",
     "output_type": "stream",
     "text": [
      "303/303 [==============================] - 0s 1ms/step - loss: -7.3618 - acc: 0.6667\n",
      "Epoch 83/150\n",
      "303/303 [==============================] - 0s 1ms/step - loss: -7.4016 - acc: 0.6634\n",
      "Epoch 84/150\n",
      "303/303 [==============================] - 0s 1ms/step - loss: -7.3888 - acc: 0.6799\n",
      "Epoch 85/150\n",
      "303/303 [==============================] - ETA: 0s - loss: -7.0677 - acc: 0.6690 ETA: 0s - loss: -7.6560 - a - 0s 1ms/step - loss: -7.3771 - acc: 0.6634\n",
      "Epoch 86/150\n",
      "303/303 [==============================] - 0s 1ms/step - loss: -7.4191 - acc: 0.6700\n",
      "Epoch 87/150\n",
      "303/303 [==============================] - 0s 1ms/step - loss: -7.3385 - acc: 0.6370\n",
      "Epoch 88/150\n",
      "303/303 [==============================] - 0s 1ms/step - loss: -7.3995 - acc: 0.6634\n",
      "Epoch 89/150\n",
      "303/303 [==============================] - 0s 1ms/step - loss: -7.4446 - acc: 0.6865\n",
      "Epoch 90/150\n",
      "303/303 [==============================] - 0s 1ms/step - loss: -7.4556 - acc: 0.6766\n",
      "Epoch 91/150\n",
      "303/303 [==============================] - 0s 1ms/step - loss: -7.4056 - acc: 0.6733\n",
      "Epoch 92/150\n",
      "303/303 [==============================] - 0s 1ms/step - loss: -7.4500 - acc: 0.6799\n",
      "Epoch 93/150\n",
      "303/303 [==============================] - 0s 1ms/step - loss: -7.4396 - acc: 0.6766\n",
      "Epoch 94/150\n",
      "303/303 [==============================] - 0s 1ms/step - loss: -7.4679 - acc: 0.6832\n",
      "Epoch 95/150\n",
      "303/303 [==============================] - 0s 1ms/step - loss: -7.3738 - acc: 0.6502\n",
      "Epoch 96/150\n",
      "303/303 [==============================] - 0s 1ms/step - loss: -7.4860 - acc: 0.6832\n",
      "Epoch 97/150\n",
      "303/303 [==============================] - 0s 1ms/step - loss: -7.5149 - acc: 0.6964\n",
      "Epoch 98/150\n",
      "303/303 [==============================] - 0s 1ms/step - loss: -7.4250 - acc: 0.6832\n",
      "Epoch 99/150\n",
      "303/303 [==============================] - 0s 1ms/step - loss: -7.4688 - acc: 0.6799\n",
      "Epoch 100/150\n",
      "303/303 [==============================] - 0s 1ms/step - loss: -7.5333 - acc: 0.7030\n",
      "Epoch 101/150\n",
      "303/303 [==============================] - 0s 1ms/step - loss: -7.5109 - acc: 0.6832\n",
      "Epoch 102/150\n",
      "303/303 [==============================] - 0s 1ms/step - loss: -7.5310 - acc: 0.6898\n",
      "Epoch 103/150\n",
      "303/303 [==============================] - 0s 1ms/step - loss: -7.5446 - acc: 0.6931\n",
      "Epoch 104/150\n",
      "303/303 [==============================] - 0s 1ms/step - loss: -7.5333 - acc: 0.6865\n",
      "Epoch 105/150\n",
      "303/303 [==============================] - 0s 1ms/step - loss: -7.5235 - acc: 0.6898\n",
      "Epoch 106/150\n",
      "303/303 [==============================] - 0s 1ms/step - loss: -7.5593 - acc: 0.7030\n",
      "Epoch 107/150\n",
      "303/303 [==============================] - 0s 1ms/step - loss: -7.5586 - acc: 0.6997\n",
      "Epoch 108/150\n",
      "303/303 [==============================] - 0s 1ms/step - loss: -7.5586 - acc: 0.6997\n",
      "Epoch 109/150\n",
      "303/303 [==============================] - ETA: 0s - loss: -7.8303 - acc: 0.68 - 0s 1ms/step - loss: -7.5432 - acc: 0.6964\n",
      "Epoch 110/150\n",
      "303/303 [==============================] - 0s 1ms/step - loss: -7.5676 - acc: 0.7129\n",
      "Epoch 111/150\n",
      "303/303 [==============================] - 0s 1ms/step - loss: -7.4477 - acc: 0.6733\n",
      "Epoch 112/150\n",
      "303/303 [==============================] - 0s 1ms/step - loss: -7.5710 - acc: 0.7030\n",
      "Epoch 113/150\n",
      "303/303 [==============================] - 0s 1ms/step - loss: -7.5786 - acc: 0.7030\n",
      "Epoch 114/150\n",
      "303/303 [==============================] - 0s 1ms/step - loss: -7.5905 - acc: 0.7096\n",
      "Epoch 115/150\n",
      "303/303 [==============================] - 0s 1ms/step - loss: -7.5831 - acc: 0.7096\n",
      "Epoch 116/150\n",
      "303/303 [==============================] - 0s 1ms/step - loss: -7.5894 - acc: 0.7129\n",
      "Epoch 117/150\n",
      "303/303 [==============================] - 1s 2ms/step - loss: -7.5963 - acc: 0.7129\n",
      "Epoch 118/150\n",
      "303/303 [==============================] - 1s 2ms/step - loss: -7.5881 - acc: 0.7096\n",
      "Epoch 119/150\n",
      "303/303 [==============================] - 0s 1ms/step - loss: -7.5931 - acc: 0.7096\n",
      "Epoch 120/150\n",
      "303/303 [==============================] - 0s 1ms/step - loss: -7.5972 - acc: 0.7162\n",
      "Epoch 121/150\n",
      "303/303 [==============================] - 0s 1ms/step - loss: -7.5956 - acc: 0.7096: 0s - loss: -7.0593 - acc\n",
      "Epoch 122/150\n",
      "303/303 [==============================] - 0s 1ms/step - loss: -7.5816 - acc: 0.7063\n",
      "Epoch 123/150\n",
      "303/303 [==============================] - 0s 1ms/step - loss: -7.5790 - acc: 0.6964\n",
      "Epoch 124/150\n",
      "303/303 [==============================] - 0s 1ms/step - loss: -7.5913 - acc: 0.6997\n",
      "Epoch 125/150\n",
      "303/303 [==============================] - 0s 990us/step - loss: -7.6097 - acc: 0.7195\n",
      "Epoch 126/150\n",
      "303/303 [==============================] - 0s 1ms/step - loss: -7.6046 - acc: 0.7129\n",
      "Epoch 127/150\n",
      "303/303 [==============================] - 0s 1ms/step - loss: -7.5924 - acc: 0.7129\n",
      "Epoch 128/150\n",
      "303/303 [==============================] - 0s 1ms/step - loss: -7.5559 - acc: 0.6964\n",
      "Epoch 129/150\n",
      "303/303 [==============================] - 0s 987us/step - loss: -7.6167 - acc: 0.7228\n",
      "Epoch 130/150\n",
      "303/303 [==============================] - 0s 905us/step - loss: -7.5889 - acc: 0.7096\n",
      "Epoch 131/150\n",
      "303/303 [==============================] - 0s 1ms/step - loss: -7.6153 - acc: 0.7228\n",
      "Epoch 132/150\n",
      "303/303 [==============================] - 0s 1ms/step - loss: -7.6165 - acc: 0.7195\n",
      "Epoch 133/150\n",
      "303/303 [==============================] - 0s 1ms/step - loss: -7.6151 - acc: 0.7195\n",
      "Epoch 134/150\n",
      "303/303 [==============================] - 0s 1ms/step - loss: -7.6188 - acc: 0.7195\n",
      "Epoch 135/150\n",
      "303/303 [==============================] - 0s 1ms/step - loss: -7.6215 - acc: 0.7228\n",
      "Epoch 136/150\n",
      "303/303 [==============================] - ETA: 0s - loss: -7.4813 - acc: 0.72 - 0s 1ms/step - loss: -7.6177 - acc: 0.7162\n",
      "Epoch 137/150\n",
      "303/303 [==============================] - 0s 1ms/step - loss: -7.6206 - acc: 0.7195\n",
      "Epoch 138/150\n",
      "303/303 [==============================] - 0s 997us/step - loss: -7.6198 - acc: 0.7228\n",
      "Epoch 139/150\n",
      "303/303 [==============================] - 0s 1ms/step - loss: -7.6156 - acc: 0.7162\n",
      "Epoch 140/150\n",
      "303/303 [==============================] - 0s 1ms/step - loss: -7.6186 - acc: 0.7228: 0s - loss: -7.5442 - acc: 0.\n",
      "Epoch 141/150\n",
      "303/303 [==============================] - 1s 2ms/step - loss: -7.5955 - acc: 0.7096\n",
      "Epoch 142/150\n",
      "303/303 [==============================] - 0s 1ms/step - loss: -7.6094 - acc: 0.7162: 0s - loss: -8.7076\n",
      "Epoch 143/150\n",
      "303/303 [==============================] - 0s 1ms/step - loss: -7.5005 - acc: 0.6799\n",
      "Epoch 144/150\n",
      "303/303 [==============================] - 0s 2ms/step - loss: -7.5848 - acc: 0.7063: 0s - loss: -7.2158 - acc: \n",
      "Epoch 145/150\n",
      "303/303 [==============================] - 0s 1ms/step - loss: -7.6229 - acc: 0.7228\n",
      "Epoch 146/150\n",
      "303/303 [==============================] - 0s 2ms/step - loss: -7.6250 - acc: 0.7228\n",
      "Epoch 147/150\n",
      "303/303 [==============================] - 1s 2ms/step - loss: -7.6256 - acc: 0.7228\n",
      "Epoch 148/150\n",
      "303/303 [==============================] - 1s 2ms/step - loss: -7.6219 - acc: 0.7195\n",
      "Epoch 149/150\n",
      "303/303 [==============================] - 0s 2ms/step - loss: -7.6253 - acc: 0.7228\n",
      "Epoch 150/150\n",
      "303/303 [==============================] - 0s 1ms/step - loss: -7.6245 - acc: 0.7228\n"
     ]
    }
   ],
   "source": [
    "history = model.fit(X, Y, epochs=150, batch_size=5)"
   ]
  },
  {
   "cell_type": "code",
   "execution_count": 221,
   "metadata": {},
   "outputs": [
    {
     "name": "stdout",
     "output_type": "stream",
     "text": [
      "303/303 [==============================] - 1s 2ms/step\n"
     ]
    },
    {
     "data": {
      "text/plain": [
       "72.27722782112977"
      ]
     },
     "execution_count": 221,
     "metadata": {},
     "output_type": "execute_result"
    }
   ],
   "source": [
    "accuracy = model.evaluate(X,Y)[1]    # accuracy of our model\n",
    "accuracy = accuracy*100\n",
    "accuracy"
   ]
  },
  {
   "cell_type": "code",
   "execution_count": 222,
   "metadata": {},
   "outputs": [
    {
     "name": "stdout",
     "output_type": "stream",
     "text": [
      "303/303 [==============================] - 0s 152us/step\n"
     ]
    },
    {
     "data": {
      "text/plain": [
       "-7.625241163146772"
      ]
     },
     "execution_count": 222,
     "metadata": {},
     "output_type": "execute_result"
    }
   ],
   "source": [
    "loss = model.evaluate(X,Y)[0]      # loss\n",
    "loss"
   ]
  },
  {
   "cell_type": "code",
   "execution_count": 223,
   "metadata": {},
   "outputs": [
    {
     "data": {
      "text/plain": [
       "dict_keys(['loss', 'acc'])"
      ]
     },
     "execution_count": 223,
     "metadata": {},
     "output_type": "execute_result"
    }
   ],
   "source": [
    "history.history.keys()"
   ]
  },
  {
   "cell_type": "code",
   "execution_count": 224,
   "metadata": {},
   "outputs": [
    {
     "data": {
      "image/png": "[encoded data removed]",
      "text/plain": [
       "<Figure size 432x288 with 1 Axes>"
      ]
     },
     "metadata": {
      "needs_background": "light"
     },
     "output_type": "display_data"
    }
   ],
   "source": [
    "# summarize history for accuracy\n",
    "plt.plot(history.history['acc'])\n",
    "plt.title('model accuracy')\n",
    "plt.ylabel('accuracy')\n",
    "plt.xlabel('epoch')\n",
    "plt.legend(['train','test'], loc='upper left')\n",
    "plt.show()"
   ]
  },
  {
   "cell_type": "code",
   "execution_count": 225,
   "metadata": {},
   "outputs": [
    {
     "data": {
      "image/png": "[encoded data removed]",
      "text/plain": [
       "<Figure size 432x288 with 1 Axes>"
      ]
     },
     "metadata": {
      "needs_background": "light"
     },
     "output_type": "display_data"
    }
   ],
   "source": [
    "# summarize history for loss\n",
    "plt.plot(history.history['loss'])\n",
    "plt.title('model loss')\n",
    "plt.ylabel('loss')\n",
    "plt.xlabel('epoch')\n",
    "plt.legend(['train','test'], loc='upper left')\n",
    "plt.show()"
   ]
  },
  {
   "cell_type": "code",
   "execution_count": null,
   "metadata": {},
   "outputs": [],
   "source": []
  }
 ],
 "metadata": {
  "kernelspec": {
   "display_name": "Python 3",
   "language": "python",
   "name": "python3"
  },
  "language_info": {
   "codemirror_mode": {
    "name": "ipython",
    "version": 3
   },
   "file_extension": ".py",
   "mimetype": "text/x-python",
   "name": "python",
   "nbconvert_exporter": "python",
   "pygments_lexer": "ipython3",
   "version": "3.6.8"
  }
 },
 "nbformat": 4,
 "nbformat_minor": 4
}
