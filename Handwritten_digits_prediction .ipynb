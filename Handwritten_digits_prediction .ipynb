{
  "nbformat": 4,
  "nbformat_minor": 0,
  "metadata": {
    "colab": {
      "name": "handwritten digits prediction.ipynb",
      "provenance": []
    },
    "kernelspec": {
      "name": "python3",
      "display_name": "Python 3"
    }
  },
  "cells": [
    {
      "cell_type": "markdown",
      "metadata": {
        "id": "IYzjAl9aI5U9"
      },
      "source": [
        "Importing library"
      ]
    },
    {
      "cell_type": "code",
      "metadata": {
        "id": "vupdWnLnHopi"
      },
      "source": [
        "from sklearn import datasets\n",
        "from sklearn import svm"
      ],
      "execution_count": null,
      "outputs": []
    },
    {
      "cell_type": "markdown",
      "metadata": {
        "id": "sF6t3heQJOiK"
      },
      "source": [
        "Datasets"
      ]
    },
    {
      "cell_type": "code",
      "metadata": {
        "id": "z5yZeBd4H2X5"
      },
      "source": [
        "digits=datasets.load_digits()"
      ],
      "execution_count": null,
      "outputs": []
    },
    {
      "cell_type": "markdown",
      "metadata": {
        "id": "DArM7lWOKceU"
      },
      "source": [
        "Training algorithm"
      ]
    },
    {
      "cell_type": "code",
      "metadata": {
        "id": "KQTqy6t9IEmX"
      },
      "source": [
        "classifier=svm.SVC(gamma=0.001 , C=100.)"
      ],
      "execution_count": null,
      "outputs": []
    },
    {
      "cell_type": "code",
      "metadata": {
        "id": "abwPBP6RIK8q",
        "colab": {
          "base_uri": "https://localhost:8080/",
          "height": 85
        },
        "outputId": "edaf1c24-516d-4a58-d2a1-cb9fdcabfaea"
      },
      "source": [
        "classifier.fit(digits.data[:-1],digits.target[:-1])"
      ],
      "execution_count": null,
      "outputs": [
        {
          "output_type": "execute_result",
          "data": {
            "text/plain": [
              "SVC(C=100.0, break_ties=False, cache_size=200, class_weight=None, coef0=0.0,\n",
              "    decision_function_shape='ovr', degree=3, gamma=0.001, kernel='rbf',\n",
              "    max_iter=-1, probability=False, random_state=None, shrinking=True,\n",
              "    tol=0.001, verbose=False)"
            ]
          },
          "metadata": {
            "tags": []
          },
          "execution_count": 25
        }
      ]
    },
    {
      "cell_type": "markdown",
      "metadata": {
        "id": "Af5GRGLIKl48"
      },
      "source": [
        "Testing algorithm"
      ]
    },
    {
      "cell_type": "code",
      "metadata": {
        "id": "dRyqZfoYInFN",
        "colab": {
          "base_uri": "https://localhost:8080/",
          "height": 34
        },
        "outputId": "7965e734-dd49-4859-df26-ff37ca7331f8"
      },
      "source": [
        "print(\"The predicted digit is \",int(classifier.predict(digits.data[2:3])))"
      ],
      "execution_count": null,
      "outputs": [
        {
          "output_type": "stream",
          "text": [
            "The predicted digit is  2\n"
          ],
          "name": "stdout"
        }
      ]
    }
  ]
}