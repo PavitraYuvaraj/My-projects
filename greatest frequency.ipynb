{
 "cells": [
  {
   "cell_type": "code",
   "execution_count": null,
   "metadata": {},
   "outputs": [],
   "source": [
    "print(\"Enter a string\")\n",
    "str=input()\n",
    "n={}\n",
    "\n",
    "for i in range(0,len(str)):\n",
    "    count=0\n",
    "    if str[i] not in n.keys():\n",
    "       n[str[i]]=0\n",
    "    else:\n",
    "        n[str[i]]=n[str[i]]+1\n",
    "print(\"The letters that have greater frequency are:\")\n",
    "max=n[str[0]]\n",
    "great_freq=[]\n",
    "for key,value in n.items():\n",
    "    if value>max:\n",
    "        max=value\n",
    "for key,value in n.items():\n",
    "    if value==max:\n",
    "        great_freq.append(key)\n",
    "print(great_freq)\n",
    "        "
   ]
  },
  {
   "cell_type": "code",
   "execution_count": null,
   "metadata": {},
   "outputs": [],
   "source": []
  }
 ],
 "metadata": {
  "kernelspec": {
   "display_name": "Python 3",
   "language": "python",
   "name": "python3"
  },
  "language_info": {
   "codemirror_mode": {
    "name": "ipython",
    "version": 3
   },
   "file_extension": ".py",
   "mimetype": "text/x-python",
   "name": "python",
   "nbconvert_exporter": "python",
   "pygments_lexer": "ipython3",
   "version": "3.7.1"
  }
 },
 "nbformat": 4,
 "nbformat_minor": 2
}
