{
 "cells": [
  {
   "cell_type": "code",
   "execution_count": 1,
   "metadata": {},
   "outputs": [],
   "source": [
    "from __future__ import print_function  \n",
    "# for Python2 compatibility "
   ]
  },
  {
   "cell_type": "code",
   "execution_count": 2,
   "metadata": {},
   "outputs": [],
   "source": [
    "import numpy \n",
    "numpy.random.seed(1337)   # for experiment reproducibility "
   ]
  },
  {
   "cell_type": "code",
   "execution_count": 3,
   "metadata": {},
   "outputs": [],
   "source": [
    "import keras\n",
    "from keras.models import Sequential\n",
    "from keras.layers import Dense \n",
    "from keras.optimizers import SGD \n",
    "from keras.datasets import mnist"
   ]
  },
  {
   "cell_type": "code",
   "execution_count": 17,
   "metadata": {},
   "outputs": [],
   "source": [
    "num_classes = 10\n",
    "\n",
    "batch_size = 256     \n",
    "epochs = 20"
   ]
  },
  {
   "cell_type": "code",
   "execution_count": 5,
   "metadata": {},
   "outputs": [],
   "source": [
    "# the data, shuffled and split between train and test sets\n",
    "(x_train, y_train), (x_test, y_test) = mnist.load_data()"
   ]
  },
  {
   "cell_type": "code",
   "execution_count": 6,
   "metadata": {},
   "outputs": [
    {
     "name": "stdout",
     "output_type": "stream",
     "text": [
      "(60000, 28, 28) (60000,) (10000, 28, 28) (10000,)\n"
     ]
    }
   ],
   "source": [
    "print(x_train.shape, y_train.shape, x_test.shape, y_test.shape)"
   ]
  },
  {
   "cell_type": "code",
   "execution_count": 7,
   "metadata": {},
   "outputs": [
    {
     "name": "stdout",
     "output_type": "stream",
     "text": [
      "60000 train samples\n",
      "10000 test samples\n"
     ]
    }
   ],
   "source": [
    "x_train = x_train.reshape(60000, 784)  # 28x28 = 784\n",
    "x_test = x_test.reshape(10000, 784)\n",
    "\n",
    "x_train = x_train.astype('float32') \n",
    "x_test = x_test.astype('float32') \n",
    "\n",
    "x_train /= 255  # 0 - 255 ...  0-1 \n",
    "x_test /= 255   # normalizing your data \n",
    "\n",
    "\n",
    "print(x_train.shape[0], 'train samples')\n",
    "print(x_test.shape[0], 'test samples')"
   ]
  },
  {
   "cell_type": "code",
   "execution_count": 8,
   "metadata": {},
   "outputs": [
    {
     "name": "stdout",
     "output_type": "stream",
     "text": [
      "(60000, 784)\n",
      "(60000,)\n"
     ]
    }
   ],
   "source": [
    "print(x_train.shape)\n",
    "print(y_train.shape)"
   ]
  },
  {
   "cell_type": "code",
   "execution_count": 9,
   "metadata": {},
   "outputs": [
    {
     "data": {
      "text/plain": [
       "2"
      ]
     },
     "execution_count": 9,
     "metadata": {},
     "output_type": "execute_result"
    }
   ],
   "source": [
    "y_train[5]"
   ]
  },
  {
   "cell_type": "code",
   "execution_count": 10,
   "metadata": {},
   "outputs": [],
   "source": [
    "# convert class vectors to binary class matrices\n",
    "y_train = keras.utils.to_categorical(y_train, num_classes)\n",
    "y_test = keras.utils.to_categorical(y_test, num_classes)"
   ]
  },
  {
   "cell_type": "code",
   "execution_count": 11,
   "metadata": {},
   "outputs": [
    {
     "data": {
      "text/plain": [
       "array([0., 0., 1., 0., 0., 0., 0., 0., 0., 0.], dtype=float32)"
      ]
     },
     "execution_count": 11,
     "metadata": {},
     "output_type": "execute_result"
    }
   ],
   "source": [
    "y_train[5]"
   ]
  },
  {
   "cell_type": "markdown",
   "metadata": {},
   "source": [
    "That's called a one-hot vector. "
   ]
  },
  {
   "cell_type": "code",
   "execution_count": 12,
   "metadata": {},
   "outputs": [],
   "source": [
    "model = Sequential()"
   ]
  },
  {
   "cell_type": "code",
   "execution_count": 13,
   "metadata": {},
   "outputs": [],
   "source": [
    "model.add( Dense(512, activation='sigmoid', input_shape=(784,)  ) )\n",
    "model.add( Dense(512, activation='sigmoid'  ) )\n",
    "model.add( Dense(num_classes, activation='softmax'))"
   ]
  },
  {
   "cell_type": "code",
   "execution_count": 14,
   "metadata": {},
   "outputs": [
    {
     "name": "stdout",
     "output_type": "stream",
     "text": [
      "Model: \"sequential\"\n",
      "_________________________________________________________________\n",
      "Layer (type)                 Output Shape              Param #   \n",
      "=================================================================\n",
      "dense (Dense)                (None, 512)               401920    \n",
      "_________________________________________________________________\n",
      "dense_1 (Dense)              (None, 512)               262656    \n",
      "_________________________________________________________________\n",
      "dense_2 (Dense)              (None, 10)                5130      \n",
      "=================================================================\n",
      "Total params: 669,706\n",
      "Trainable params: 669,706\n",
      "Non-trainable params: 0\n",
      "_________________________________________________________________\n"
     ]
    }
   ],
   "source": [
    "# What does the model look like? \n",
    "model.summary()"
   ]
  },
  {
   "cell_type": "code",
   "execution_count": 15,
   "metadata": {},
   "outputs": [],
   "source": [
    "# Compile the model \n",
    "model.compile(loss='categorical_crossentropy', optimizer=SGD(), \n",
    "              metrics=['accuracy'])"
   ]
  },
  {
   "cell_type": "code",
   "execution_count": 18,
   "metadata": {},
   "outputs": [
    {
     "name": "stdout",
     "output_type": "stream",
     "text": [
      "Epoch 1/20\n",
      "235/235 [==============================] - 20s 86ms/step - loss: 2.2981 - accuracy: 0.1298 - val_loss: 2.2706 - val_accuracy: 0.2233\n",
      "Epoch 2/20\n",
      "235/235 [==============================] - 19s 81ms/step - loss: 2.2533 - accuracy: 0.2641 - val_loss: 2.2346 - val_accuracy: 0.2760\n",
      "Epoch 3/20\n",
      "235/235 [==============================] - 20s 84ms/step - loss: 2.2143 - accuracy: 0.3826 - val_loss: 2.1916 - val_accuracy: 0.3058\n",
      "Epoch 4/20\n",
      "235/235 [==============================] - 34s 146ms/step - loss: 2.1697 - accuracy: 0.4688 - val_loss: 2.1425 - val_accuracy: 0.5107\n",
      "Epoch 5/20\n",
      "235/235 [==============================] - 35s 149ms/step - loss: 2.1173 - accuracy: 0.5325 - val_loss: 2.0833 - val_accuracy: 0.6044\n",
      "Epoch 6/20\n",
      "235/235 [==============================] - 38s 162ms/step - loss: 2.0544 - accuracy: 0.5769 - val_loss: 2.0113 - val_accuracy: 0.6570\n",
      "Epoch 7/20\n",
      "235/235 [==============================] - 30s 128ms/step - loss: 1.9777 - accuracy: 0.6142 - val_loss: 1.9266 - val_accuracy: 0.6194\n",
      "Epoch 8/20\n",
      "235/235 [==============================] - 35s 151ms/step - loss: 1.8849 - accuracy: 0.6378 - val_loss: 1.8240 - val_accuracy: 0.6179\n",
      "Epoch 9/20\n",
      "235/235 [==============================] - 40s 168ms/step - loss: 1.7772 - accuracy: 0.6571 - val_loss: 1.7060 - val_accuracy: 0.7047\n",
      "Epoch 10/20\n",
      "235/235 [==============================] - 36s 152ms/step - loss: 1.6569 - accuracy: 0.6802 - val_loss: 1.5796 - val_accuracy: 0.7130\n",
      "Epoch 11/20\n",
      "235/235 [==============================] - 39s 167ms/step - loss: 1.5310 - accuracy: 0.7007 - val_loss: 1.4522 - val_accuracy: 0.7222\n",
      "Epoch 12/20\n",
      "235/235 [==============================] - 27s 115ms/step - loss: 1.4064 - accuracy: 0.7203 - val_loss: 1.3299 - val_accuracy: 0.7349\n",
      "Epoch 13/20\n",
      "235/235 [==============================] - 28s 119ms/step - loss: 1.2897 - accuracy: 0.7379 - val_loss: 1.2170 - val_accuracy: 0.7559\n",
      "Epoch 14/20\n",
      "235/235 [==============================] - 27s 113ms/step - loss: 1.1854 - accuracy: 0.7526 - val_loss: 1.1188 - val_accuracy: 0.7786\n",
      "Epoch 15/20\n",
      "235/235 [==============================] - 28s 119ms/step - loss: 1.0942 - accuracy: 0.7686 - val_loss: 1.0349 - val_accuracy: 0.7792\n",
      "Epoch 16/20\n",
      "235/235 [==============================] - 27s 113ms/step - loss: 1.0160 - accuracy: 0.7790 - val_loss: 0.9642 - val_accuracy: 0.7791\n",
      "Epoch 17/20\n",
      "235/235 [==============================] - 26s 111ms/step - loss: 0.9491 - accuracy: 0.7879 - val_loss: 0.9018 - val_accuracy: 0.8009\n",
      "Epoch 18/20\n",
      "235/235 [==============================] - 26s 110ms/step - loss: 0.8919 - accuracy: 0.7972 - val_loss: 0.8486 - val_accuracy: 0.8059\n",
      "Epoch 19/20\n",
      "235/235 [==============================] - 27s 115ms/step - loss: 0.8425 - accuracy: 0.8055 - val_loss: 0.8027 - val_accuracy: 0.8140\n",
      "Epoch 20/20\n",
      "235/235 [==============================] - 33s 140ms/step - loss: 0.7996 - accuracy: 0.8117 - val_loss: 0.7628 - val_accuracy: 0.8200\n"
     ]
    }
   ],
   "source": [
    "# let's perform the learning \n",
    "history = model.fit( x_train, y_train, \n",
    "           batch_size=batch_size,\n",
    "           epochs=epochs, \n",
    "           verbose=1, \n",
    "           validation_data=(x_test, y_test))"
   ]
  },
  {
   "cell_type": "code",
   "execution_count": 19,
   "metadata": {},
   "outputs": [
    {
     "name": "stdout",
     "output_type": "stream",
     "text": [
      "313/313 [==============================] - 7s 21ms/step - loss: 0.7628 - accuracy: 0.8200\n"
     ]
    }
   ],
   "source": [
    "# Let's evaluate the model \n",
    "score = model.evaluate(x_test, y_test)"
   ]
  },
  {
   "cell_type": "markdown",
   "metadata": {
    "collapsed": true
   },
   "source": [
    "See some great results here: http://rodrigob.github.io/are_we_there_yet/build/classification_datasets_results.html#4d4e495354 "
   ]
  },
  {
   "cell_type": "code",
   "execution_count": 22,
   "metadata": {},
   "outputs": [
    {
     "data": {
      "text/plain": [
       "0.8199999928474426"
      ]
     },
     "execution_count": 22,
     "metadata": {},
     "output_type": "execute_result"
    }
   ],
   "source": [
    "score[1]"
   ]
  },
  {
   "cell_type": "code",
   "execution_count": null,
   "metadata": {},
   "outputs": [],
   "source": []
  }
 ],
 "metadata": {
  "kernelspec": {
   "display_name": "Python 3",
   "language": "python",
   "name": "python3"
  },
  "language_info": {
   "codemirror_mode": {
    "name": "ipython",
    "version": 3
   },
   "file_extension": ".py",
   "mimetype": "text/x-python",
   "name": "python",
   "nbconvert_exporter": "python",
   "pygments_lexer": "ipython3",
   "version": "3.6.8"
  }
 },
 "nbformat": 4,
 "nbformat_minor": 2
}
