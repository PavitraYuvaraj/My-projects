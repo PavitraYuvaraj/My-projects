{
 "cells": [
  {
   "cell_type": "markdown",
   "metadata": {},
   "source": [
    "#  Installation"
   ]
  },
  {
   "cell_type": "code",
   "execution_count": null,
   "metadata": {},
   "outputs": [],
   "source": [
    "!pip install ibm_watson"
   ]
  },
  {
   "cell_type": "markdown",
   "metadata": {},
   "source": [
    "# Import Service"
   ]
  },
  {
   "cell_type": "code",
   "execution_count": 5,
   "metadata": {},
   "outputs": [],
   "source": [
    "from ibm_watson import SpeechToTextV1\n",
    "\n",
    "from ibm_cloud_sdk_core.authenticators import IAMAuthenticator"
   ]
  },
  {
   "cell_type": "markdown",
   "metadata": {},
   "source": [
    "# Authenticate"
   ]
  },
  {
   "cell_type": "code",
   "execution_count": 6,
   "metadata": {},
   "outputs": [],
   "source": [
    "apikey='lWq6T8g7SaJ6A80tdoysZi0Gyt9ER4aB2XFGJGSuVlA3'\n",
    "url='https://api.eu-gb.speech-to-text.watson.cloud.ibm.com/instances/1f7d5524-ca8a-4207-bcce-cfa2e1e4c49e'"
   ]
  },
  {
   "cell_type": "code",
   "execution_count": 7,
   "metadata": {},
   "outputs": [],
   "source": [
    "authen=IAMAuthenticator(apikey)\n",
    "stt=SpeechToTextV1(authenticator=authen)\n",
    "stt.set_service_url(url)"
   ]
  },
  {
   "cell_type": "markdown",
   "metadata": {},
   "source": [
    "# Converting speech file to text"
   ]
  },
  {
   "cell_type": "code",
   "execution_count": 8,
   "metadata": {},
   "outputs": [],
   "source": [
    "with open('speech.mp3','rb')as f:\n",
    "    res=stt.recognize(audio=f,content_type='audio/mp3',model='en-US_NarrowbandModel',continuous=True).get_result()"
   ]
  },
  {
   "cell_type": "code",
   "execution_count": 9,
   "metadata": {},
   "outputs": [
    {
     "data": {
      "text/plain": [
       "{'result_index': 0,\n",
       " 'results': [{'final': True,\n",
       "   'alternatives': [{'transcript': \"hi you love the most important object defined in not B. as in N. dimensional array type called in Derry it describes the collection of items of the same type items in the collection can be accessed using a zero based index dot every item in Derry takes the same size a block in the memory each element in Derry's an object of data type object called type dot any item extracted from Derry object by slicing is represented by a python object of one of ray scalar types the following diagram shows the relationship between Derry data type object type and ray scalar type of \",\n",
       "     'confidence': 0.83}]}]}"
      ]
     },
     "execution_count": 9,
     "metadata": {},
     "output_type": "execute_result"
    }
   ],
   "source": [
    "res"
   ]
  },
  {
   "cell_type": "code",
   "execution_count": 18,
   "metadata": {},
   "outputs": [
    {
     "data": {
      "text/plain": [
       "\"hi you love the most important object defined in not B. as in N. dimensional array type called in Derry it describes the collection of items of the same type items in the collection can be accessed using a zero based index dot every item in Derry takes the same size a block in the memory each element in Derry's an object of data type object called type dot any item extracted from Derry object by slicing is represented by a python object of one of ray scalar types the following diagram shows the relationship between Derry data type object type and ray scalar type of \""
      ]
     },
     "execution_count": 18,
     "metadata": {},
     "output_type": "execute_result"
    }
   ],
   "source": [
    "text=res['results'][0]['alternatives'][0]['transcript']\n",
    "\n",
    "text"
   ]
  },
  {
   "cell_type": "code",
   "execution_count": 17,
   "metadata": {},
   "outputs": [
    {
     "data": {
      "text/plain": [
       "0.83"
      ]
     },
     "execution_count": 17,
     "metadata": {},
     "output_type": "execute_result"
    }
   ],
   "source": [
    "con=res['results'][0]['alternatives'][0]['confidence']\n",
    "\n",
    "con"
   ]
  },
  {
   "cell_type": "code",
   "execution_count": 19,
   "metadata": {},
   "outputs": [],
   "source": [
    "with open ('output_file.txt','w')as out:\n",
    "    out.writelines(text)"
   ]
  },
  {
   "cell_type": "code",
   "execution_count": null,
   "metadata": {},
   "outputs": [],
   "source": []
  }
 ],
 "metadata": {
  "kernelspec": {
   "display_name": "Python 3",
   "language": "python",
   "name": "python3"
  },
  "language_info": {
   "codemirror_mode": {
    "name": "ipython",
    "version": 3
   },
   "file_extension": ".py",
   "mimetype": "text/x-python",
   "name": "python",
   "nbconvert_exporter": "python",
   "pygments_lexer": "ipython3",
   "version": "3.7.1"
  }
 },
 "nbformat": 4,
 "nbformat_minor": 2
}
